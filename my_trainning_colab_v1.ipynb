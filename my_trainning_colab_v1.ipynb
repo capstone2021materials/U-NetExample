{
  "nbformat": 4,
  "nbformat_minor": 0,
  "metadata": {
    "colab": {
      "name": "TrainingExample.ipynb",
      "provenance": [],
      "collapsed_sections": []
    },
    "kernelspec": {
      "name": "python3",
      "display_name": "Python 3"
    },
    "accelerator": "GPU"
  },
  "cells": [
    {
      "cell_type": "markdown",
      "metadata": {
        "id": "l4ENCd91nkLU"
      },
      "source": [
        "This script was tested in google colab. Before starting, please cd to the folder where the script is. If missing module error happens, please install the corresponding library in this runtime. Please also don't forget to enable GPU in Runtime/Change runtime type"
      ]
    },
    {
      "cell_type": "code",
      "metadata": {
        "id": "dZmmzJQnnWMQ",
        "colab": {
          "base_uri": "https://localhost:8080/",
          "height": 0
        },
        "outputId": "08d54f1b-84df-4a1f-bc8b-fa1e2d3247d9"
      },
      "source": [
        "#cd to the script folder\n",
        "from google.colab import drive\n",
        "import os\n",
        "drive.mount('/content/drive', force_remount=True)\n",
        "os.chdir('/content/drive/MyDrive/483w_Capstone//Team B/code-proj1/data/3') #Need to change the address to where your script is\n",
        "os.listdir('.')"
      ],
      "execution_count": 2,
      "outputs": [
        {
          "output_type": "stream",
          "name": "stdout",
          "text": [
            "Mounted at /content/drive\n"
          ]
        },
        {
          "output_type": "execute_result",
          "data": {
            "text/plain": [
              "['data', 'log.csv', 'model.hdf5']"
            ]
          },
          "metadata": {},
          "execution_count": 2
        }
      ]
    },
    {
      "cell_type": "code",
      "metadata": {
        "id": "hVqPK7ZcnfXb"
      },
      "source": [
        "import tensorflow.compat.v2 as tf\n",
        "import tensorflow_datasets as tfds\n",
        "\n",
        "\n",
        "AUTO = tf.data.experimental.AUTOTUNE\n",
        "BATCH_SIZE = 2\n",
        "\n",
        "@tf.function\n",
        "def scale(image):\n",
        "  image = tf.image.convert_image_dtype(image, tf.float32)\n",
        "  return image\n",
        "\n",
        "@tf.function\n",
        "def random_crop(images):\n",
        "  boxes = tf.random.uniform(shape=(len(images), 4))\n",
        "  box_indices = tf.random.uniform(shape=(len(images),), minval=0, maxval=BATCH_SIZE, dtype=tf.int32)\n",
        "  images = tf.image.crop_and_resize(images, boxes, box_indices, (512, 512))\n",
        "  return images\n",
        "\n",
        "@tf.function\n",
        "def scale_resize_image (image) :\n",
        "  image = tf.image.convert_image_dtype(image, tf.float32) # equivalent to dividing image pixels by 255\n",
        "  image = tf.image.resize(image, ( 512 , 512 ) ) # Resizing the image to 512x512 dimention\n",
        "  return image\n",
        " \n",
        "\n"
      ],
      "execution_count": 21,
      "outputs": []
    },
    {
      "cell_type": "code",
      "metadata": {
        "id": "m_MgGkGVqHgY",
        "colab": {
          "base_uri": "https://localhost:8080/"
        },
        "outputId": "0b0a059b-20ff-4764-9f83-3e082563240f"
      },
      "source": [
        "#load training dataset\n",
        "import numpy as np\n",
        "from keras.preprocessing.image import ImageDataGenerator, array_to_img, img_to_array, load_img\n",
        "from pathlib import Path\n",
        "\n",
        "nameList = os.listdir('data/label')\n",
        "trainSize = len(nameList)\n",
        "\n",
        "imgs = np.ndarray((trainSize,512,512,1), dtype='float32')\n",
        "labels = np.ndarray((trainSize,512,512,1), dtype='float32')\n",
        "\n",
        "for i, name in enumerate(nameList):\n",
        "  stem = Path(name).stem\n",
        "  img = load_img('data/train/' + stem + '.PNG', grayscale = True)\n",
        "  label = load_img('data/label/' + name, grayscale = True)\n",
        "  img = img_to_array(img).astype('float32')\n",
        "  label = img_to_array(label).astype('float32')\n",
        "  img -= img.mean()\n",
        "  img /= img.std()\n",
        "  img = scale_resize_image(img)\n",
        "  label = scale_resize_image(label)\n",
        "  imgs[i] = img\n",
        "  labels[i] = label\n",
        "  if i % 100 == 0:\n",
        "    print('Done: {0}/{1} images'.format(i, len(imgs)))\n",
        "\n",
        "\n",
        "labels /= 255\n",
        "labels[labels > 0.5] = 1\n",
        "labels[labels <= 0.5] = 0\n",
        "labels = np.reshape(1-labels,[-1,262144,1])"
      ],
      "execution_count": 26,
      "outputs": [
        {
          "output_type": "stream",
          "name": "stderr",
          "text": [
            "/usr/local/lib/python3.7/dist-packages/keras_preprocessing/image/utils.py:107: UserWarning: grayscale is deprecated. Please use color_mode = \"grayscale\"\n",
            "  warnings.warn('grayscale is deprecated. Please use '\n"
          ]
        },
        {
          "output_type": "stream",
          "name": "stdout",
          "text": [
            "Done: 0/98 images\n"
          ]
        }
      ]
    },
    {
      "cell_type": "code",
      "metadata": {
        "id": "exYcPI9bsxM0",
        "colab": {
          "base_uri": "https://localhost:8080/"
        },
        "outputId": "4592546c-dd86-454e-d274-024fd694d4b9"
      },
      "source": [
        "#training\n",
        "from keras.models import *\n",
        "from keras.layers import *\n",
        "from keras.optimizers import *\n",
        "from keras.callbacks import ModelCheckpoint, LearningRateScheduler, CSVLogger\n",
        "from keras import backend as keras\n",
        "from keras.initializers import *\n",
        "import tensorflow as tf\n",
        "Adam = tf.keras.optimizers.Adam\n",
        "\n",
        "\n",
        "\n",
        "def get_unet():\n",
        "\t\tinputs = Input((512,512,1))\n",
        "\t\tconv1 = Conv2D(64, 3, activation = 'relu', padding = 'same', kernel_initializer = 'he_normal')(inputs)\n",
        "\t\tprint (\"conv1 shape:\",conv1.shape)\n",
        "\t\tconv1 = Conv2D(64, 3, activation = 'relu', padding = 'same', kernel_initializer = 'he_normal')(conv1)\n",
        "\t\tprint (\"conv1 shape:\",conv1.shape)\n",
        "\t\tpool1 = MaxPooling2D(pool_size=(2, 2))(conv1)\n",
        "\t\tprint (\"pool1 shape:\",pool1.shape)\n",
        "\n",
        "\t\tconv2 = Conv2D(128, 3, activation = 'relu', padding = 'same', kernel_initializer = 'he_normal')(pool1)\n",
        "\t\tprint (\"conv2 shape:\",conv2.shape)\n",
        "\t\tconv2 = Conv2D(128, 3, activation = 'relu', padding = 'same', kernel_initializer = 'he_normal')(conv2)\n",
        "\t\tprint (\"conv2 shape:\",conv2.shape)\n",
        "\t\tpool2 = MaxPooling2D(pool_size=(2, 2))(conv2)\n",
        "\t\tprint (\"pool2 shape:\",pool2.shape)\n",
        "\n",
        "\t\tconv3 = Conv2D(256, 3, activation = 'relu', padding = 'same', kernel_initializer = 'he_normal')(pool2)\n",
        "\t\tprint (\"conv3 shape:\",conv3.shape)\n",
        "\t\tconv3 = Conv2D(256, 3, activation = 'relu', padding = 'same', kernel_initializer = 'he_normal')(conv3)\n",
        "\t\tprint (\"conv3 shape:\",conv3.shape)\n",
        "\t\tpool3 = MaxPooling2D(pool_size=(2, 2))(conv3)\n",
        "\t\tprint (\"pool3 shape:\",pool3.shape)\n",
        "\n",
        "\t\tconv4 = Conv2D(512, 3, activation = 'relu', padding = 'same', kernel_initializer = 'he_normal')(pool3)\n",
        "\t\tconv4 = Conv2D(512, 3, activation = 'relu', padding = 'same', kernel_initializer = 'he_normal')(conv4)\n",
        "\t\tdrop4 = Dropout(0.5)(conv4)\n",
        "\t\tpool4 = MaxPooling2D(pool_size=(2, 2))(drop4)\n",
        "\n",
        "\t\tconv5 = Conv2D(1024, 3, activation = 'relu', padding = 'same', kernel_initializer = 'he_normal')(pool4)\n",
        "\t\tconv5 = Conv2D(1024, 3, activation = 'relu', padding = 'same', kernel_initializer = 'he_normal')(conv5)\n",
        "\t\tdrop5 = Dropout(0.5)(conv5)\n",
        "\n",
        "\t\tup6 = Conv2D(512, 2, activation = 'relu', padding = 'same', kernel_initializer = 'he_normal')(UpSampling2D(size = (2,2))(drop5))\n",
        "\t\tmerge6 = concatenate([drop4,up6],axis=3)\n",
        "\t\tconv6 = Conv2D(512, 3, activation = 'relu', padding = 'same', kernel_initializer = 'he_normal')(merge6)\n",
        "\t\tconv6 = Conv2D(512, 3, activation = 'relu', padding = 'same', kernel_initializer = 'he_normal')(conv6)\n",
        "\n",
        "\t\tup7 = Conv2D(256, 2, activation = 'relu', padding = 'same', kernel_initializer = 'he_normal')(UpSampling2D(size = (2,2))(conv6))\n",
        "\t\tmerge7 = concatenate([conv3,up7], axis = 3)\n",
        "\t\tconv7 = Conv2D(256, 3, activation = 'relu', padding = 'same', kernel_initializer = 'he_normal')(merge7)\n",
        "\t\tconv7 = Conv2D(256, 3, activation = 'relu', padding = 'same', kernel_initializer = 'he_normal')(conv7)\n",
        "\n",
        "\t\tup8 = Conv2D(128, 2, activation = 'relu', padding = 'same', kernel_initializer = 'he_normal')(UpSampling2D(size = (2,2))(conv7))\n",
        "\t\tmerge8 = concatenate([conv2,up8], axis = 3)\n",
        "\t\tconv8 = Conv2D(128, 3, activation = 'relu', padding = 'same', kernel_initializer = 'he_normal')(merge8)\n",
        "\t\tconv8 = Conv2D(128, 3, activation = 'relu', padding = 'same', kernel_initializer = 'he_normal')(conv8)\n",
        "\n",
        "\t\tup9 = Conv2D(64, 2, activation = 'relu', padding = 'same', kernel_initializer = 'he_normal')(UpSampling2D(size = (2,2))(conv8))\n",
        "\t\tmerge9 = concatenate([conv1,up9], axis = 3)\n",
        "\t\tconv9 = Conv2D(64, 3, activation = 'relu', padding = 'same', kernel_initializer = 'he_normal')(merge9)\n",
        "\t\tconv9 = Conv2D(64, 3, activation = 'relu', padding = 'same', kernel_initializer = 'he_normal')(conv9)\n",
        "\t\tconv9 = Conv2D(2, 3, activation = 'relu', padding = 'same', kernel_initializer = 'he_normal')(conv9)\n",
        "\t\tconv10 = Conv2D(1, 1, activation = 'sigmoid')(conv9)\n",
        "\t\treshape = Reshape((262144,1))(conv10)\n",
        "\t\tmodel = Model(inputs = inputs, outputs = reshape)\n",
        "\t\tmodel.compile(optimizer = Adam(lr = 1e-4), loss = 'binary_crossentropy', metrics = ['accuracy'])\n",
        "\t\treturn model\n",
        "\n",
        "model = get_unet()\n",
        "model_checkpoint = ModelCheckpoint('model.hdf5', monitor='loss',verbose=1, save_best_only=True)\n",
        "csv_logger = CSVLogger('log.csv', append=False, separator=',')\n",
        "model.summary()\n",
        "model.fit(imgs, labels, batch_size=BATCH_SIZE, epochs=15, verbose=1,validation_split=0.2, shuffle=True, callbacks=[model_checkpoint,csv_logger])\n",
        "print('Fitting model...')"
      ],
      "execution_count": null,
      "outputs": [
        {
          "output_type": "stream",
          "name": "stdout",
          "text": [
            "conv1 shape: (None, 512, 512, 64)\n",
            "conv1 shape: (None, 512, 512, 64)\n",
            "pool1 shape: (None, 256, 256, 64)\n",
            "conv2 shape: (None, 256, 256, 128)\n",
            "conv2 shape: (None, 256, 256, 128)\n",
            "pool2 shape: (None, 128, 128, 128)\n",
            "conv3 shape: (None, 128, 128, 256)\n",
            "conv3 shape: (None, 128, 128, 256)\n",
            "pool3 shape: (None, 64, 64, 256)\n"
          ]
        },
        {
          "output_type": "stream",
          "name": "stderr",
          "text": [
            "/usr/local/lib/python3.7/dist-packages/keras/optimizer_v2/adam.py:105: UserWarning: The `lr` argument is deprecated, use `learning_rate` instead.\n",
            "  super(Adam, self).__init__(name, **kwargs)\n"
          ]
        },
        {
          "output_type": "stream",
          "name": "stdout",
          "text": [
            "Model: \"model_1\"\n",
            "__________________________________________________________________________________________________\n",
            " Layer (type)                   Output Shape         Param #     Connected to                     \n",
            "==================================================================================================\n",
            " input_2 (InputLayer)           [(None, 512, 512, 1  0           []                               \n",
            "                                )]                                                                \n",
            "                                                                                                  \n",
            " conv2d_24 (Conv2D)             (None, 512, 512, 64  640         ['input_2[0][0]']                \n",
            "                                )                                                                 \n",
            "                                                                                                  \n",
            " conv2d_25 (Conv2D)             (None, 512, 512, 64  36928       ['conv2d_24[0][0]']              \n",
            "                                )                                                                 \n",
            "                                                                                                  \n",
            " max_pooling2d_4 (MaxPooling2D)  (None, 256, 256, 64  0          ['conv2d_25[0][0]']              \n",
            "                                )                                                                 \n",
            "                                                                                                  \n",
            " conv2d_26 (Conv2D)             (None, 256, 256, 12  73856       ['max_pooling2d_4[0][0]']        \n",
            "                                8)                                                                \n",
            "                                                                                                  \n",
            " conv2d_27 (Conv2D)             (None, 256, 256, 12  147584      ['conv2d_26[0][0]']              \n",
            "                                8)                                                                \n",
            "                                                                                                  \n",
            " max_pooling2d_5 (MaxPooling2D)  (None, 128, 128, 12  0          ['conv2d_27[0][0]']              \n",
            "                                8)                                                                \n",
            "                                                                                                  \n",
            " conv2d_28 (Conv2D)             (None, 128, 128, 25  295168      ['max_pooling2d_5[0][0]']        \n",
            "                                6)                                                                \n",
            "                                                                                                  \n",
            " conv2d_29 (Conv2D)             (None, 128, 128, 25  590080      ['conv2d_28[0][0]']              \n",
            "                                6)                                                                \n",
            "                                                                                                  \n",
            " max_pooling2d_6 (MaxPooling2D)  (None, 64, 64, 256)  0          ['conv2d_29[0][0]']              \n",
            "                                                                                                  \n",
            " conv2d_30 (Conv2D)             (None, 64, 64, 512)  1180160     ['max_pooling2d_6[0][0]']        \n",
            "                                                                                                  \n",
            " conv2d_31 (Conv2D)             (None, 64, 64, 512)  2359808     ['conv2d_30[0][0]']              \n",
            "                                                                                                  \n",
            " dropout_2 (Dropout)            (None, 64, 64, 512)  0           ['conv2d_31[0][0]']              \n",
            "                                                                                                  \n",
            " max_pooling2d_7 (MaxPooling2D)  (None, 32, 32, 512)  0          ['dropout_2[0][0]']              \n",
            "                                                                                                  \n",
            " conv2d_32 (Conv2D)             (None, 32, 32, 1024  4719616     ['max_pooling2d_7[0][0]']        \n",
            "                                )                                                                 \n",
            "                                                                                                  \n",
            " conv2d_33 (Conv2D)             (None, 32, 32, 1024  9438208     ['conv2d_32[0][0]']              \n",
            "                                )                                                                 \n",
            "                                                                                                  \n",
            " dropout_3 (Dropout)            (None, 32, 32, 1024  0           ['conv2d_33[0][0]']              \n",
            "                                )                                                                 \n",
            "                                                                                                  \n",
            " up_sampling2d_4 (UpSampling2D)  (None, 64, 64, 1024  0          ['dropout_3[0][0]']              \n",
            "                                )                                                                 \n",
            "                                                                                                  \n",
            " conv2d_34 (Conv2D)             (None, 64, 64, 512)  2097664     ['up_sampling2d_4[0][0]']        \n",
            "                                                                                                  \n",
            " concatenate_4 (Concatenate)    (None, 64, 64, 1024  0           ['dropout_2[0][0]',              \n",
            "                                )                                 'conv2d_34[0][0]']              \n",
            "                                                                                                  \n",
            " conv2d_35 (Conv2D)             (None, 64, 64, 512)  4719104     ['concatenate_4[0][0]']          \n",
            "                                                                                                  \n",
            " conv2d_36 (Conv2D)             (None, 64, 64, 512)  2359808     ['conv2d_35[0][0]']              \n",
            "                                                                                                  \n",
            " up_sampling2d_5 (UpSampling2D)  (None, 128, 128, 51  0          ['conv2d_36[0][0]']              \n",
            "                                2)                                                                \n",
            "                                                                                                  \n",
            " conv2d_37 (Conv2D)             (None, 128, 128, 25  524544      ['up_sampling2d_5[0][0]']        \n",
            "                                6)                                                                \n",
            "                                                                                                  \n",
            " concatenate_5 (Concatenate)    (None, 128, 128, 51  0           ['conv2d_29[0][0]',              \n",
            "                                2)                                'conv2d_37[0][0]']              \n",
            "                                                                                                  \n",
            " conv2d_38 (Conv2D)             (None, 128, 128, 25  1179904     ['concatenate_5[0][0]']          \n",
            "                                6)                                                                \n",
            "                                                                                                  \n",
            " conv2d_39 (Conv2D)             (None, 128, 128, 25  590080      ['conv2d_38[0][0]']              \n",
            "                                6)                                                                \n",
            "                                                                                                  \n",
            " up_sampling2d_6 (UpSampling2D)  (None, 256, 256, 25  0          ['conv2d_39[0][0]']              \n",
            "                                6)                                                                \n",
            "                                                                                                  \n",
            " conv2d_40 (Conv2D)             (None, 256, 256, 12  131200      ['up_sampling2d_6[0][0]']        \n",
            "                                8)                                                                \n",
            "                                                                                                  \n",
            " concatenate_6 (Concatenate)    (None, 256, 256, 25  0           ['conv2d_27[0][0]',              \n",
            "                                6)                                'conv2d_40[0][0]']              \n",
            "                                                                                                  \n",
            " conv2d_41 (Conv2D)             (None, 256, 256, 12  295040      ['concatenate_6[0][0]']          \n",
            "                                8)                                                                \n",
            "                                                                                                  \n",
            " conv2d_42 (Conv2D)             (None, 256, 256, 12  147584      ['conv2d_41[0][0]']              \n",
            "                                8)                                                                \n",
            "                                                                                                  \n",
            " up_sampling2d_7 (UpSampling2D)  (None, 512, 512, 12  0          ['conv2d_42[0][0]']              \n",
            "                                8)                                                                \n",
            "                                                                                                  \n",
            " conv2d_43 (Conv2D)             (None, 512, 512, 64  32832       ['up_sampling2d_7[0][0]']        \n",
            "                                )                                                                 \n",
            "                                                                                                  \n",
            " concatenate_7 (Concatenate)    (None, 512, 512, 12  0           ['conv2d_25[0][0]',              \n",
            "                                8)                                'conv2d_43[0][0]']              \n",
            "                                                                                                  \n",
            " conv2d_44 (Conv2D)             (None, 512, 512, 64  73792       ['concatenate_7[0][0]']          \n",
            "                                )                                                                 \n",
            "                                                                                                  \n",
            " conv2d_45 (Conv2D)             (None, 512, 512, 64  36928       ['conv2d_44[0][0]']              \n",
            "                                )                                                                 \n",
            "                                                                                                  \n",
            " conv2d_46 (Conv2D)             (None, 512, 512, 2)  1154        ['conv2d_45[0][0]']              \n",
            "                                                                                                  \n",
            " conv2d_47 (Conv2D)             (None, 512, 512, 1)  3           ['conv2d_46[0][0]']              \n",
            "                                                                                                  \n",
            " reshape_1 (Reshape)            (None, 262144, 1)    0           ['conv2d_47[0][0]']              \n",
            "                                                                                                  \n",
            "==================================================================================================\n",
            "Total params: 31,031,685\n",
            "Trainable params: 31,031,685\n",
            "Non-trainable params: 0\n",
            "__________________________________________________________________________________________________\n",
            "Epoch 1/15\n",
            "39/39 [==============================] - ETA: 0s - loss: 0.4766 - accuracy: 0.9002\n",
            "Epoch 00001: loss improved from inf to 0.47661, saving model to model.hdf5\n",
            "39/39 [==============================] - 91s 2s/step - loss: 0.4766 - accuracy: 0.9002 - val_loss: 0.5020 - val_accuracy: 0.8261\n",
            "Epoch 2/15\n",
            " 1/39 [..............................] - ETA: 1:10 - loss: 0.3231 - accuracy: 0.9122"
          ]
        }
      ]
    },
    {
      "cell_type": "code",
      "metadata": {
        "id": "ewvPAiHtwmzm",
        "colab": {
          "base_uri": "https://localhost:8080/",
          "height": 136
        },
        "outputId": "5749f20e-18bb-44a1-f4a6-c88f4de3bff3"
      },
      "source": [
        "#prediction\n",
        "import numpy as np\n",
        "from keras.preprocessing.image import ImageDataGenerator, array_to_img, img_to_array, load_img\n",
        "\n",
        "from keras.models import *\n",
        "from keras.layers import *\n",
        "from keras.optimizers import *\n",
        "from keras.callbacks import ModelCheckpoint, LearningRateScheduler, CSVLogger\n",
        "from keras import backend as keras\n",
        "from keras.initializers import *\n",
        "import tensorflow as tf\n",
        "Adam = tf.keras.optimizers.Adam\n",
        "\n",
        "\n",
        "nameListTest = os.listdir('data/test')\n",
        "testSize = len(nameListTest)\n",
        "tests = np.ndarray((testSize,512,512,1), dtype='float32')\n",
        "print('Loading')\n",
        "for i,name in enumerate(nameListTest):\n",
        "  img = load_img('data/test/' + name,grayscale = True)\n",
        "  img = img_to_array(img).astype('float32')\n",
        "  img -= img.mean()\n",
        "  img /= img.std()\n",
        "  tests[i] = img\n",
        "  if (i+1) % 100 == 0:\n",
        "    print('Done: {0}/{1} images'.format(i+1, testSize))\n",
        "model = load_model('model.hdf5')\n",
        "print(\"Network Loaded\")\n",
        "print('Predicting test data')\n",
        "predictions = model.predict(tests, batch_size=1, verbose=1)\n",
        "predictions = np.reshape(predictions, [-1,512,512,1])\n",
        "for i in range(predictions.shape[0]):\n",
        "\t\timg = array_to_img(predictions[i])\n",
        "\t\timg.save(\"data/prediction/{:d}\".format(i)+'.tif')"
      ],
      "execution_count": null,
      "outputs": [
        {
          "output_type": "stream",
          "name": "stdout",
          "text": [
            "Loading\n"
          ]
        },
        {
          "output_type": "stream",
          "name": "stderr",
          "text": [
            "/usr/local/lib/python3.6/dist-packages/keras_preprocessing/image/utils.py:107: UserWarning: grayscale is deprecated. Please use color_mode = \"grayscale\"\n",
            "  warnings.warn('grayscale is deprecated. Please use '\n"
          ]
        },
        {
          "output_type": "stream",
          "name": "stdout",
          "text": [
            "Done: 100/100 images\n",
            "Network Loaded\n",
            "Predicting test data\n",
            "100/100 [==============================] - 7s 66ms/step\n"
          ]
        }
      ]
    }
  ]
}